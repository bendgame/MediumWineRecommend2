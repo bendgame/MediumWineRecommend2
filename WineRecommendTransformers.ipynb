{
 "cells": [
  {
   "cell_type": "code",
   "execution_count": null,
   "metadata": {},
   "outputs": [],
   "source": [
    "import numpy as np\n",
    "import pandas as pd\n",
    "import sqlite3\n",
    "from sqlite3 import Error\n",
    "\n",
    "import texthero as hero\n",
    "from texthero import preprocessing\n",
    "from sentence_transformers import SentenceTransformer, util\n",
    "import nmslib\n",
    "\n",
    "import time\n",
    "import datetime"
   ]
  },
  {
   "cell_type": "code",
   "execution_count": null,
   "metadata": {},
   "outputs": [],
   "source": [
    "conn = sqlite3.connect(\"wine_data.sqlite\")\n",
    "c = conn.cursor()"
   ]
  },
  {
   "cell_type": "code",
   "execution_count": null,
   "metadata": {},
   "outputs": [],
   "source": [
    "sql = '''\n",
    "select * from wine_data\n",
    "'''"
   ]
  },
  {
   "cell_type": "code",
   "execution_count": null,
   "metadata": {},
   "outputs": [],
   "source": [
    "df = pd.read_sql(sql, conn)"
   ]
  },
  {
   "cell_type": "code",
   "execution_count": null,
   "metadata": {
    "scrolled": true
   },
   "outputs": [],
   "source": [
    "df.head()"
   ]
  },
  {
   "cell_type": "code",
   "execution_count": null,
   "metadata": {
    "scrolled": true
   },
   "outputs": [],
   "source": [
    "distilbert = SentenceTransformer('distilbert-base-uncased')\n",
    "embeddings = distilbert.encode(df['description'], convert_to_tensor=True)\n",
    "df['distilbert'] = np.array(embeddings).tolist()\n",
    "# df['pdisroberta']= vect_to_df\n",
    "\n",
    "# initialize a new index, using a HNSW index on Cosine Similarity\n",
    "distilbert_index = nmslib.init(method='hnsw', space='cosinesimil')\n",
    "distilbert_index.addDataPointBatch(embeddings)\n",
    "distilbert_index.createIndex({'post': 2}, print_progress=True)"
   ]
  },
  {
   "cell_type": "code",
   "execution_count": null,
   "metadata": {},
   "outputs": [],
   "source": [
    "df.head(1)"
   ]
  },
  {
   "cell_type": "code",
   "execution_count": null,
   "metadata": {},
   "outputs": [],
   "source": [
    "print(len(embeddings[0]))\n",
    "print(embeddings[0])"
   ]
  },
  {
   "cell_type": "code",
   "execution_count": null,
   "metadata": {},
   "outputs": [],
   "source": [
    "def search_wine(dataframe, userQuery):\n",
    "    \n",
    "    if dataframe is not None and userQuery is not None:\n",
    "        df = dataframe.copy()\n",
    "        query = distilbert.encode([userQuery], convert_to_tensor=True)\n",
    "        ids, distances = distilbert_index.knnQuery(query, k=20)\n",
    "\n",
    "        matches = []\n",
    "\n",
    "        for i,j in zip(ids,distances):\n",
    "\n",
    "            matches.append({'country':df.country.values[i]\n",
    "                        , 'winery' : df.winery.values[i]\n",
    "                        , 'title' : df.title.values[i]\n",
    "                        , 'variety': df.variety.values[i]\n",
    "                        , 'color' : df.color.values[i]\n",
    "                        , 'description': df.description.values[i]\n",
    "                        , 'price': df.price.values[i]\n",
    "                        , 'rating': df.rating.values[i]\n",
    "                        , 'distance': j\n",
    "                       })\n",
    "\n",
    "        return pd.DataFrame(matches) "
   ]
  },
  {
   "cell_type": "code",
   "execution_count": null,
   "metadata": {
    "scrolled": true
   },
   "outputs": [],
   "source": [
    "search_wine(df, \"sweet and tangy\")"
   ]
  },
  {
   "cell_type": "code",
   "execution_count": null,
   "metadata": {},
   "outputs": [],
   "source": [
    "def search_wine(dataframe, userQuery, color = None, price = None):\n",
    "    \n",
    "    if dataframe is not None and userQuery is not None:\n",
    "\n",
    "        df = dataframe.copy()\n",
    "        query = distilbert.encode([userQuery], convert_to_tensor=True)\n",
    "        e = np.vstack(query)\n",
    "        ids, distances = distilbert_index.knnQuery(e, k=100)\n",
    "\n",
    "        matches = []\n",
    "\n",
    "        for i,j in zip(ids,distances):\n",
    "\n",
    "            matches.append({'country':df.country.values[i]\n",
    "                            , 'winery' : df.winery.values[i]\n",
    "                            , 'title' : df.title.values[i]\n",
    "                            , 'variety': df.variety.values[i]\n",
    "                            , 'color' : df.color.values[i]\n",
    "                            , 'description': df.description.values[i]\n",
    "                            , 'price': df.price.values[i]\n",
    "                            , 'rating': df.rating.values[i]\n",
    "                            , 'distance': j\n",
    "                           })\n",
    "\n",
    "        results = pd.DataFrame(matches) \n",
    "        \n",
    "        if color is None:\n",
    "            color = ''\n",
    "        \n",
    "        if price is None:\n",
    "            price = 999999.999\n",
    "        \n",
    "        if len(color) > 0 and len(str(price))>0:\n",
    "            results = results[(results['color']==color) & (results['price'] <= price) ]\n",
    "        elif len(color) == 0 and len(str(price))>0:\n",
    "            results = results[(results['price'] <= price)]\n",
    "        else:\n",
    "            results\n",
    "                      \n",
    "        results = results.reset_index()\n",
    "        results = results[['country','winery','title','color','description','price','rating','simRank']]\n",
    "        return results"
   ]
  },
  {
   "cell_type": "code",
   "execution_count": null,
   "metadata": {
    "scrolled": true
   },
   "outputs": [],
   "source": [
    "search_wine(df, 'sweet and tangy', 'red', 99.9)"
   ]
  },
  {
   "cell_type": "code",
   "execution_count": null,
   "metadata": {},
   "outputs": [],
   "source": [
    "df['tsnedistilbert'] = hero.tsne(df['distilbert'])"
   ]
  },
  {
   "cell_type": "code",
   "execution_count": null,
   "metadata": {},
   "outputs": [],
   "source": [
    "#Save a meta index and the data\n",
    "distilbert_index.saveIndex('distilBertWineindex.bin', save_data=True)\n",
    "#Re-intitialize the library, specify the space\n",
    "#newIndex = nmslib.init(method='hnsw', space='cosinesimil_sparse')\n",
    "#Re-load the index and the data\n",
    "#newIndex.loadIndex('sparse_index.bin', load_data=True)"
   ]
  },
  {
   "cell_type": "code",
   "execution_count": null,
   "metadata": {},
   "outputs": [],
   "source": [
    "#create scatter plot of uni. sent. enc.\n",
    "hero.scatterplot(df, col='tsnedistilbert'\n",
    "                 , color='variety'\n",
    "                 , title=\"Wine Explorer\"\n",
    "                 , hover_data = ['title','variety','price','description'])"
   ]
  },
  {
   "cell_type": "code",
   "execution_count": null,
   "metadata": {},
   "outputs": [],
   "source": [
    "import dash\n",
    "from jupyter_dash import JupyterDash\n",
    "import dash_bootstrap_components as dbc\n",
    "import dash_html_components as html\n",
    "import dash_core_components as dcc\n",
    "from dash.dependencies import Input, Output"
   ]
  },
  {
   "cell_type": "code",
   "execution_count": null,
   "metadata": {},
   "outputs": [],
   "source": [
    "external_stylesheets=[dbc.themes.BOOTSTRAP]\n",
    "app = JupyterDash(__name__, external_stylesheets=external_stylesheets)\n",
    "\n",
    "# Create server variable with Flask server object for use with gunicorn\n",
    "server = app.server\n",
    "\n",
    "search_card = dbc.Card(\n",
    "    dbc.CardBody(\n",
    "        [\n",
    "            html.H5(\"Auto-Sommelier\", className=\"card-title\")\n",
    "            , dbc.Textarea(id = 'user-input', bs_size=\"lg\"\n",
    "                     , placeholder=\"Describe Ideal Wine\")\n",
    "             ,dbc.Button('search', id = 'search', color=\"danger\")\n",
    "        ]\n",
    "    )\n",
    ")\n",
    "\n",
    "app.layout = html.Div([html.H1(\"Find Your Wine!\")\n",
    "                   , html.Br()\n",
    "                   , dbc.Row(dbc.Col(search_card,\n",
    "                        width={\"size\": 6, \"offset\": 3}))#end row\n",
    "                  , html.Br()\n",
    "                  , dbc.Card(dbc.CardBody(html.Div(id = 'results')))\n",
    "                  ])\n",
    "\n",
    "@app.callback(Output(\"results\", \"children\")\n",
    "              , [Input(\"user-input\", \"value\")\n",
    "                , Input(\"search\", \"n_clicks\")\n",
    "                ])\n",
    "def return_wine(userquery, n):\n",
    "    \n",
    "    if userquery is not None and n is not None:\n",
    "        \n",
    "        dff = df.copy()\n",
    "        results = search_wine(dff, userquery)\n",
    "        table = dbc.Table.from_dataframe(results, striped=True, bordered=True, hover=True)\n",
    "    \n",
    "        return table"
   ]
  },
  {
   "cell_type": "code",
   "execution_count": null,
   "metadata": {},
   "outputs": [],
   "source": [
    "app.run_server()"
   ]
  },
  {
   "cell_type": "code",
   "execution_count": null,
   "metadata": {},
   "outputs": [],
   "source": []
  }
 ],
 "metadata": {
  "kernelspec": {
   "display_name": "Python 3",
   "language": "python",
   "name": "python3"
  },
  "language_info": {
   "codemirror_mode": {
    "name": "ipython",
    "version": 3
   },
   "file_extension": ".py",
   "mimetype": "text/x-python",
   "name": "python",
   "nbconvert_exporter": "python",
   "pygments_lexer": "ipython3",
   "version": "3.6.12"
  }
 },
 "nbformat": 4,
 "nbformat_minor": 4
}
